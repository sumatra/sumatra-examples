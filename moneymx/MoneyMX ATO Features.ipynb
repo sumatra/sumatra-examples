{
 "cells": [
  {
   "cell_type": "markdown",
   "metadata": {},
   "source": [
    "# Problem: SPEI transfer disputes\n",
    "\n",
    "Build model to stop more SPEI transfer disputes."
   ]
  },
  {
   "cell_type": "code",
   "execution_count": null,
   "metadata": {},
   "outputs": [],
   "source": [
    "import pandas as pd\n",
    "pd.set_option('display.max_columns', None)\n",
    "\n",
    "disputes = pd.read_csv(\"disputes.csv\")\n",
    "disputes"
   ]
  },
  {
   "cell_type": "markdown",
   "metadata": {},
   "source": [
    "# Approach: Add ATO Features to Transfer Model\n",
    "\n",
    "Start by fetching historical data for Train and Test"
   ]
  },
  {
   "cell_type": "code",
   "execution_count": null,
   "metadata": {},
   "outputs": [],
   "source": [
    "from sumatra import Client\n",
    "sumatra = Client('console.qa.sumatra.ai')\n",
    "\n",
    "timeline = \"simulated_100k_over_180d\"\n",
    "sumatra.get_timeline(timeline)"
   ]
  },
  {
   "cell_type": "markdown",
   "metadata": {},
   "source": [
    "## Enrich historical events with candidate features\n",
    "\n",
    "Replay events through Sumatra topology to compute historical feature values."
   ]
  },
  {
   "cell_type": "code",
   "execution_count": null,
   "metadata": {},
   "outputs": [],
   "source": [
    "enriched = sumatra.materialize(timeline)\n",
    "spei_outgoing = enriched.get_events(\"spei_outgoing\")\n",
    "spei_outgoing"
   ]
  },
  {
   "cell_type": "markdown",
   "metadata": {},
   "source": [
    "## Join feature data and labels"
   ]
  },
  {
   "cell_type": "code",
   "execution_count": null,
   "metadata": {},
   "outputs": [],
   "source": [
    "labeled = pd.merge(spei_outgoing, disputes, 'left', left_on='_id', right_on='sumatra_id')\n",
    "labeled['is_fraud'] = ~labeled.sumatra_id.isna()\n",
    "labeled.is_fraud.value_counts()"
   ]
  },
  {
   "cell_type": "markdown",
   "metadata": {},
   "source": [
    "## Choose subset of features"
   ]
  },
  {
   "cell_type": "code",
   "execution_count": null,
   "metadata": {},
   "outputs": [],
   "source": [
    "original = [\n",
    "    'amount',\n",
    "    'name_similarity',\n",
    "    'money_out_48h',\n",
    "    'past_pair_money_transferred',\n",
    "    'unique_senders_to_beneficiary',\n",
    "]\n",
    "new = [\n",
    "    #'failed_logins_by_ipc',\n",
    "    #'trusted_device_updates_shared_mobile_36h',\n",
    "]\n",
    "features = original + new\n",
    "labeled[features + ['is_fraud']]"
   ]
  },
  {
   "cell_type": "markdown",
   "metadata": {},
   "source": [
    "## Use standard missing-value replacement"
   ]
  },
  {
   "cell_type": "code",
   "execution_count": null,
   "metadata": {},
   "outputs": [],
   "source": [
    "import numpy as np\n",
    "from sklearn.impute import SimpleImputer\n",
    "imp = SimpleImputer(missing_values=np.nan, strategy='mean')\n",
    "imputed = pd.DataFrame(imp.fit_transform(labeled[features+['is_fraud']]), columns=features+['is_fraud'])\n",
    "imputed"
   ]
  },
  {
   "cell_type": "markdown",
   "metadata": {},
   "source": [
    "## Time-based Train/Test split"
   ]
  },
  {
   "cell_type": "code",
   "execution_count": null,
   "metadata": {},
   "outputs": [],
   "source": [
    "from sklearn.model_selection import train_test_split\n",
    "train, test = train_test_split(imputed, shuffle=False, test_size=0.2)\n",
    "print(\"Train set size:\", train.shape)\n",
    "print(\"Test set size: \", test.shape)"
   ]
  },
  {
   "cell_type": "markdown",
   "metadata": {},
   "source": [
    "## Train ML models and measure performance"
   ]
  },
  {
   "cell_type": "code",
   "execution_count": null,
   "metadata": {},
   "outputs": [],
   "source": [
    "from sklearn.ensemble import RandomForestClassifier\n",
    "from sklearn.metrics import roc_curve\n",
    "import matplotlib.pyplot as plt\n",
    "\n",
    "plt.figure(figsize=(8,6))\n",
    "plt.rcParams['font.size'] = 18\n",
    "plt.xlabel(\"False Positive Rate\")\n",
    "plt.ylabel(\"True Positive Rate\")\n",
    "plt.title(\"Test Set Performance (Random Forest)\")\n",
    "\n",
    "# original\n",
    "clf = RandomForestClassifier(n_estimators=5)\n",
    "clf.fit(train[original], train.is_fraud)\n",
    "\n",
    "test_score = clf.predict_proba(test[original])[:,1]\n",
    "fpr, tpr, thresholds = roc_curve(test.is_fraud, test_score)\n",
    "\n",
    "plt.plot(fpr, tpr, label='original')\n",
    "\n",
    "# original + new\n",
    "if new:\n",
    "    clf = RandomForestClassifier(n_estimators=10)\n",
    "    clf.fit(train[original + new], train.is_fraud)\n",
    "\n",
    "    test_score = clf.predict_proba(test[original + new])[:,1]\n",
    "    fpr, tpr, thresholds = roc_curve(test.is_fraud, test_score)\n",
    "\n",
    "    plt.plot(fpr, tpr, label='original+new')\n",
    "    plt.legend(loc='best')"
   ]
  }
 ],
 "metadata": {
  "kernelspec": {
   "display_name": "Python 3",
   "language": "python",
   "name": "python3"
  },
  "language_info": {
   "codemirror_mode": {
    "name": "ipython",
    "version": 3
   },
   "file_extension": ".py",
   "mimetype": "text/x-python",
   "name": "python",
   "nbconvert_exporter": "python",
   "pygments_lexer": "ipython3",
   "version": "3.9.9"
  }
 },
 "nbformat": 4,
 "nbformat_minor": 4
}
