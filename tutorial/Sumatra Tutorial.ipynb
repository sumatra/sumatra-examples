{
 "cells": [
  {
   "cell_type": "markdown",
   "metadata": {},
   "source": [
    "# Sumatra Sandbox Tutorial\n",
    "\n",
    "This notebook demonstrates how to engineer features with Sumatra, backfill them offline, and serve them online. The notebook includes keys to a sandbox environment, set up just for you.\n",
    "\n",
    "## Install Python packages\n",
    "Along with the `sumatra-client`, we use the `faker` package to generate test data and `tqdm` to display progress."
   ]
  },
  {
   "cell_type": "code",
   "execution_count": null,
   "metadata": {},
   "outputs": [],
   "source": [
    "!pip install sumatra-client\n",
    "!pip install faker tqdm"
   ]
  },
  {
   "cell_type": "markdown",
   "metadata": {},
   "source": [
    "## Connect to Sandbox Environment\n",
    "\n",
    "__*To request your keys, email: hello@sumatra.ai*__\n",
    "\n",
    "* __Client__ provides access to Sumatra's platform APIs\n",
    "* __APIClient__ is a simple wrapper around `requests` to call Sumatra's event-ingestion REST endpoint"
   ]
  },
  {
   "cell_type": "code",
   "execution_count": null,
   "metadata": {},
   "outputs": [],
   "source": [
    "%env SUMATRA_SDK_KEY=\n",
    "%env SUMATRA_API_KEY=\n",
    "\n",
    "from sumatra import Client, APIClient\n",
    "sumatra = Client('console.qa.sumatra.ai')\n",
    "api = APIClient('console.qa.sumatra.ai')"
   ]
  },
  {
   "cell_type": "markdown",
   "metadata": {},
   "source": [
    "## Key Concepts\n",
    "\n",
    "When an __event__ is sent to Sumatra, a __topology__ defined by the user, processes the event to:\n",
    "* __Extract__ payload elements into a statically-typed dataframe\n",
    "* __Enrich__ the data with stateless and stateful feature transformations, computed efficiently on-demand\n",
    "\n",
    "Topologies are defined in a DSL call __SCOWL__. You will find it useful throughout the tutorial to reference the __documentation__ here: https://scowl.sumatra.ai\n",
    "\n",
    "## Hello World\n",
    "\n",
    "Let's start with a simple example:\n",
    "* extract a `name` from the payload\n",
    "* compute a single new feature: `greeting`.\n",
    "\n",
    "Notice that features are defined within the scope of an __event type__—in this case: `test`."
   ]
  },
  {
   "cell_type": "code",
   "execution_count": null,
   "metadata": {},
   "outputs": [],
   "source": [
    "scowl = \"\"\"\n",
    "event test\n",
    "name := $.name as string\n",
    "greeting := 'Hello, ' + name\n",
    "\"\"\"\n",
    "sumatra.publish_scowl(scowl)\n",
    "\n",
    "event = {'_type': 'test', 'name': 'World'}\n",
    "response = api.send(event)\n",
    "response"
   ]
  },
  {
   "cell_type": "markdown",
   "metadata": {},
   "source": [
    "Let's look at __what we just did__. We:\n",
    "* published a very simple topology to LIVE\n",
    "* sent a single event to our API to enrich the data with features\n",
    "\n",
    "Pretty neat, huh? 😄\n",
    "\n",
    "### Exercises For You\n",
    "\n",
    "* Change the `name` in the `event` payload from `World` to `Universe`\n",
    "* Change the definition of `greeting` in the `scowl` code to `'Howdy, ' + name`\n",
    "* Add a new feature: `gibberish_score := GibberishNameScore(name)`. _Can you change the name to make the score positive?_\n",
    "* Try breaking the code to get a compile-time error"
   ]
  },
  {
   "cell_type": "markdown",
   "metadata": {},
   "source": [
    "## Payment Example\n",
    "\n",
    "Now let's try something a bit more realistic. We'll create a simplified payload for a payment transaction.\n",
    "\n",
    "The following function will generate random payloads for us:"
   ]
  },
  {
   "cell_type": "code",
   "execution_count": null,
   "metadata": {},
   "outputs": [],
   "source": [
    "import pandas as pd\n",
    "from tqdm.notebook import trange\n",
    "from random import random, randrange\n",
    "from faker import Faker\n",
    "faker = Faker()\n",
    "\n",
    "def payment(**args):\n",
    "    return {\n",
    "        '_type': 'payment',\n",
    "        'card': {\n",
    "            'hash': args.get('hash', faker.uuid4()),\n",
    "            'bin': args.get('bin', randrange(100000, 999999)),\n",
    "        },\n",
    "        'amount': args.get('amount', round(1 + random() * 100, 2)),\n",
    "        'merchant': {\n",
    "            'email': args.get('email', faker.free_email()),\n",
    "            'create_ts': args.get('create_ts', faker.date_time_this_year().isoformat()),\n",
    "        }\n",
    "    }"
   ]
  },
  {
   "cell_type": "markdown",
   "metadata": {},
   "source": [
    "### Scenario\n",
    "\n",
    "Imagine we need to compute some on-demand __transformations__ and __aggregates__ over the payment data to pass to our real-time payment risk model. We may want to compute features such as:\n",
    "* time-windowed sums\n",
    "* unique counts\n",
    "* ratios, etc. \n",
    "\n",
    "In the scowl code below, you'll see some example features that could be useful.\n",
    "\n",
    "Let's publish this topology and send some events through."
   ]
  },
  {
   "cell_type": "code",
   "execution_count": null,
   "metadata": {},
   "outputs": [],
   "source": [
    "scowl = \"\"\"\n",
    "event payment\n",
    "\n",
    "amount := $.amount as float\n",
    "card_bin := $.card.bin as int\n",
    "card_hash := $.card.hash as string\n",
    "merchant_create_ts := $.merchant.create_ts as time\n",
    "merchant_email := $.merchant.email as string\n",
    "\n",
    "amount_by_card_2w := Sum(amount by card_hash last 2 weeks)\n",
    "\n",
    "merchant_age_days := Days(EventTime() - merchant_create_ts)\n",
    "merchants_by_card_5d := CountUnique(merchant_email by card_hash last 5 days)\n",
    "young_merchants_by_card_5d := CountUnique(merchant_email by card_hash where merchant_age_days < 120 last 5 days)\n",
    "young_merchant_ratio_5d := young_merchants_by_card_5d / Maximum(merchants_by_card_5d , 1)\n",
    "\"\"\"\n",
    "\n",
    "sumatra.publish_scowl(scowl)\n",
    "\n",
    "features = []\n",
    "bin = randrange(100000, 999999)\n",
    "hash = faker.uuid4()\n",
    "for i in trange(10):\n",
    "    resp = api.send(payment(bin=bin, hash=hash))\n",
    "    features.append(resp['features'])\n",
    "    if i == 4:\n",
    "        hash = faker.uuid4()\n",
    "\n",
    "df = pd.DataFrame(features)\n",
    "df"
   ]
  },
  {
   "cell_type": "markdown",
   "metadata": {},
   "source": [
    "Let's look at __what we just did__. We:\n",
    "* published a simple but realistic topology to LIVE\n",
    "* sent 10 generated events to the API\n",
    "* viewed the online features responses as a dataframe\n",
    "\n",
    "Boom. 🤯\n",
    "\n",
    "### Exercises For You\n",
    "* Add a new feature: `num_cards_same_bin_1d := CountUnique(card_hash by card_bin last day)`\n",
    "* Modify the event generator to drive up some aggregate counts\n"
   ]
  },
  {
   "cell_type": "markdown",
   "metadata": {},
   "source": [
    "## Offline \"Replay\"\n",
    "\n",
    "For obvious reasons, testing in LIVE is not the best way to experiment with new features. In a production setting, topologies are developed and validated on historical data before going through the change management process for LIVE deployment.\n",
    "\n",
    "One of the key benefits of Sumatra is that __no modification or reimplmentation__ is required between offline and online feature definitions.\n",
    "\n",
    "### Stitching Events Together\n",
    "\n",
    "In addition to demonstrating offline functionality, we'll also introduce of Sumatra's most powerful capabilities: aggregating data across event types. Here we'll define three event types:\n",
    "* `login` - merchant logged into their portal\n",
    "* `update_payout` - merchant changed the bank the receives their payouts\n",
    "* `payment` - as before, a payment is made\n",
    "\n",
    "__Motivation:__ At payment time, we want to add risk if it appears that the merchant account was taken over, because a fraudster may be using the merchant account to funnel money from stolen cards.\n",
    "\n",
    "Let's start by creating (but not yet publishing) a scowl topology:"
   ]
  },
  {
   "cell_type": "code",
   "execution_count": null,
   "metadata": {},
   "outputs": [],
   "source": [
    "scowl = \"\"\"\n",
    "event login\n",
    "\n",
    "email := $.email as string\n",
    "ip := $.ip as string\n",
    "correct_password := $.correct_password as bool\n",
    "ipc := IPCBlock(ip)\n",
    "failures_by_ipc_10m := CountUnique(email by ipc where not correct_password last 10 minutes)\n",
    "possible_credential_stuffing := correct_password and failures_by_ipc_10m > 5\n",
    "\n",
    "event update_payout\n",
    "\n",
    "email := $.email as string\n",
    "ip := $.ip as string\n",
    "bank_hash := $.bank.hash as string\n",
    "risky_logins_2d := Count<login>(by email where possible_credential_stuffing last 2 days)\n",
    "\n",
    "event payment\n",
    "\n",
    "amount := $.amount as float\n",
    "card_bin := $.card.bin as int\n",
    "card_hash := $.card.hash as string\n",
    "merchant_email := $.merchant.email as string\n",
    "merchant_risky_bank_updates_12h := Count<update_payout>(by merchant_email as email where risky_logins_2d >= 1 last 12 hours)\n",
    "\"\"\"\n",
    "sumatra.create_branch_from_scowl(scowl)\n",
    "sumatra.get_branch()"
   ]
  },
  {
   "cell_type": "markdown",
   "metadata": {},
   "source": [
    "The above code defines features for each of the three event types. Notice that `payment` computes an aggregate over the `update_payout` event type, using the `<>` syntax: `Count<update_payout>`.\n",
    "\n",
    "Likewise, `update_payout` aggregates data over the `login` event type. In this way, we can propagate risk forward through the customer journey to provide maximum context at decision time.\n",
    "\n",
    "### Timelines\n",
    "\n",
    "To evaluate our candidate features, we'll use a saved event log, called a _timeline_, of 17 events contrived to demonstrate an __attack__."
   ]
  },
  {
   "cell_type": "code",
   "execution_count": null,
   "metadata": {},
   "outputs": [],
   "source": [
    "attack_jsonl = \"\"\"{\"_type\": \"payment\", \"card\": {\"hash\": \"e37acc45-0b0b-4de3-9d11-9b8501f61616\", \"bin\": 502053}, \"amount\": 28.5, \"merchant\": {\"email\": \"eric26@yahoo.com\", \"create_ts\": \"2021-05-18T23:40:43\"}, \"_time\": \"2021-04-12T22:43:10Z\"}\n",
    "{\"_type\": \"payment\", \"card\": {\"hash\": \"4b54c4d9-0ef1-4827-a8ff-30fb259c6ad6\", \"bin\": 418246}, \"amount\": 14.69, \"merchant\": {\"email\": \"eric26@yahoo.com\", \"create_ts\": \"2021-05-18T23:40:43\"}, \"_time\": \"2021-04-12T22:43:21Z\"}\n",
    "{\"_type\": \"payment\", \"card\": {\"hash\": \"541a49eb-3c68-43bf-a481-05198b4ed6d7\", \"bin\": 952656}, \"amount\": 24.48, \"merchant\": {\"email\": \"eric26@yahoo.com\", \"create_ts\": \"2021-05-18T23:40:43\"}, \"_time\": \"2021-04-12T22:43:33Z\"}\n",
    "{\"_type\": \"login\", \"email\": \"annsmith@hotmail.com\", \"ip\": \"82.177.157.108\", \"correct_password\": false, \"_time\": \"2021-04-12T22:43:46Z\"}\n",
    "{\"_type\": \"login\", \"email\": \"rcarroll@yahoo.com\", \"ip\": \"82.177.157.108\", \"correct_password\": false, \"_time\": \"2021-04-12T22:43:51Z\"}\n",
    "{\"_type\": \"login\", \"email\": \"nancy87@hotmail.com\", \"ip\": \"82.177.157.108\", \"correct_password\": false, \"_time\": \"2021-04-12T22:44:05Z\"}\n",
    "{\"_type\": \"login\", \"email\": \"brendansmith@hotmail.com\", \"ip\": \"82.177.157.108\", \"correct_password\": false, \"_time\": \"2021-04-12T22:44:19Z\"}\n",
    "{\"_type\": \"login\", \"email\": \"dale56@gmail.com\", \"ip\": \"82.177.157.108\", \"correct_password\": false, \"_time\": \"2021-04-12T22:44:23Z\"}\n",
    "{\"_type\": \"login\", \"email\": \"tanyawarren@hotmail.com\", \"ip\": \"82.177.157.108\", \"correct_password\": false, \"_time\": \"2021-04-12T22:44:35Z\"}\n",
    "{\"_type\": \"login\", \"email\": \"nicolemarshall@hotmail.com\", \"ip\": \"82.177.157.108\", \"correct_password\": false, \"_time\": \"2021-04-12T22:44:43Z\"}\n",
    "{\"_type\": \"login\", \"email\": \"billy04@hotmail.com\", \"ip\": \"82.177.157.108\", \"correct_password\": false, \"_time\": \"2021-04-12T22:44:47Z\"}\n",
    "{\"_type\": \"login\", \"email\": \"mary95@yahoo.com\", \"ip\": \"82.177.157.108\", \"correct_password\": false, \"_time\": \"2021-04-12T22:44:59Z\"}\n",
    "{\"_type\": \"login\", \"email\": \"eric26@yahoo.com\", \"ip\": \"82.177.157.108\", \"correct_password\": true, \"_time\": \"2021-04-12T22:45:06Z\"}\n",
    "{\"_type\": \"update_payout\", \"email\": \"eric26@yahoo.com\", \"ip\": \"82.177.157.108\", \"bank\": {\"hash\": \"3326a480-8030-4e27-8784-bfc85304366b\"}, \"_time\": \"2021-04-12T22:45:16Z\"}\n",
    "{\"_type\": \"payment\", \"card\": {\"hash\": \"f4c42a6f-d99d-426d-a8dc-b9fd0aeb03e0\", \"bin\": 713244}, \"amount\": 67.39, \"merchant\": {\"email\": \"eric26@yahoo.com\", \"create_ts\": \"2021-05-18T23:40:43\"}, \"_time\": \"2021-04-12T22:45:29Z\"}\n",
    "{\"_type\": \"payment\", \"card\": {\"hash\": \"82a6c562-1995-46e4-9a13-b73347e080c7\", \"bin\": 670712}, \"amount\": 32.35, \"merchant\": {\"email\": \"eric26@yahoo.com\", \"create_ts\": \"2021-05-18T23:40:43\"}, \"_time\": \"2021-04-12T22:45:34Z\"}\n",
    "{\"_type\": \"payment\", \"card\": {\"hash\": \"07415d87-e05c-43d4-ba61-7c3669af4648\", \"bin\": 508544}, \"amount\": 29.6, \"merchant\": {\"email\": \"eric26@yahoo.com\", \"create_ts\": \"2021-05-18T23:40:43\"}, \"_time\": \"2021-04-12T22:45:38Z\"}\"\"\"\n",
    "sumatra.create_timeline_from_jsonl('attack', attack_jsonl)\n",
    "sumatra.get_timeline('attack')"
   ]
  },
  {
   "cell_type": "markdown",
   "metadata": {},
   "source": [
    "😃 __Now the fun part.__ 😃 Let's run that historical timeline through our saved topology to enrich all of the events.\n",
    "\n",
    "For each event type, we end up with a dataframe. We'll start by viewing `login`."
   ]
  },
  {
   "cell_type": "code",
   "execution_count": null,
   "metadata": {},
   "outputs": [],
   "source": [
    "enriched = sumatra.materialize(timeline='attack')\n",
    "enriched.get_events(event_type='login')"
   ]
  },
  {
   "cell_type": "markdown",
   "metadata": {},
   "source": [
    "As you can see, one IP is hammering away, trying credentials until it finally succeeds with one merchant account. Our `possible_credential_stuffing` feature becomes true.\n",
    "\n",
    "At this point, the attacker updates the payout, which is recognized to be risky (by the `risky_logins_2d` feature):"
   ]
  },
  {
   "cell_type": "code",
   "execution_count": null,
   "metadata": {},
   "outputs": [],
   "source": [
    "enriched.get_events('update_payout')"
   ]
  },
  {
   "cell_type": "markdown",
   "metadata": {},
   "source": [
    "Last, we can see that the 3 payments preceding the attack are not deemed risky while the three that come after the attack are. (See `merchant_risky_bank_updates_12h`):"
   ]
  },
  {
   "cell_type": "code",
   "execution_count": null,
   "metadata": {},
   "outputs": [],
   "source": [
    "enriched.get_events('payment')"
   ]
  },
  {
   "cell_type": "markdown",
   "metadata": {},
   "source": [
    "Let's look at __what we just did__. We:\n",
    "* saved a draft topology with our candidate features\n",
    "* we sourced a saved _timeline_ for historical test events\n",
    "* we ran the timeline through our topology to backfill features\n",
    "* we viewed the enriched output\n",
    "\n",
    "At this point, we can perform exploratory data analysis, model training, or any other data science activities on the enriched `payment` data set.\n",
    "\n",
    "👉 __Data Science Goes Here__ 😄\n",
    "\n",
    "Satisfied with our feature set, we can publish it to LIVE:"
   ]
  },
  {
   "cell_type": "code",
   "execution_count": null,
   "metadata": {},
   "outputs": [],
   "source": [
    "diff = sumatra.publish_branch()"
   ]
  },
  {
   "cell_type": "markdown",
   "metadata": {},
   "source": [
    "and just like that, we have a scaled out API to serve up fresh, real-time risk signals: 🔥🔥🔥"
   ]
  },
  {
   "cell_type": "code",
   "execution_count": null,
   "metadata": {},
   "outputs": [],
   "source": [
    "response = api.send({\n",
    "    \"_type\": \"payment\",\n",
    "    \"amount\": 28.5,\n",
    "    \"card\": {\"hash\": \"e37acc45-0b0b-4de3-9d11-9b8501f61616\", \"bin\": 502053},\n",
    "    \"merchant\": {\"email\": \"eric26@yahoo.com\", \"create_ts\": \"2021-05-18T23:40:43\"}\n",
    "})\n",
    "response['features']"
   ]
  }
 ],
 "metadata": {
  "kernelspec": {
   "display_name": "Python 3 (ipykernel)",
   "language": "python",
   "name": "python3"
  },
  "language_info": {
   "codemirror_mode": {
    "name": "ipython",
    "version": 3
   },
   "file_extension": ".py",
   "mimetype": "text/x-python",
   "name": "python",
   "nbconvert_exporter": "python",
   "pygments_lexer": "ipython3",
   "version": "3.9.10"
  }
 },
 "nbformat": 4,
 "nbformat_minor": 4
}
