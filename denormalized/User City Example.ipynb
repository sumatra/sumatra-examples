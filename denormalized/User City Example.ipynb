{
 "cells": [
  {
   "cell_type": "code",
   "execution_count": null,
   "metadata": {},
   "outputs": [],
   "source": [
    "from sumatra import Client, APIClient\n",
    "sumatra = Client('console.qa.sumatra.ai')\n",
    "api = APIClient('console.qa.sumatra.ai')"
   ]
  },
  {
   "cell_type": "code",
   "execution_count": null,
   "metadata": {},
   "outputs": [],
   "source": [
    "scowl = \"\"\"\n",
    "event test\n",
    "name := $.name as string\n",
    "greeting := 'Hello, ' + name\n",
    "\"\"\"\n",
    "sumatra.create_branch_from_scowl(scowl)\n",
    "sumatra.publish_branch()\n",
    "\n",
    "event = {'_type': 'test', 'name': 'World'}\n",
    "response = api.send(event)\n",
    "print(response)"
   ]
  },
  {
   "cell_type": "code",
   "execution_count": null,
   "metadata": {},
   "outputs": [],
   "source": [
    "schemas = \"\"\"\n",
    "event user\n",
    "user_id := $.user_id as string\n",
    "age := $.age as int\n",
    "uid := $.uid as string\n",
    "phone := $.phone as string\n",
    "\n",
    "event user_city\n",
    "user_id := $.user_id as string\n",
    "city_id := $.city_id as string\n",
    "\n",
    "event city\n",
    "city_id := $.city_id as string\n",
    "city_tier := $.city_tier as int\n",
    "\"\"\"\n",
    "sumatra.create_branch_from_scowl(schemas)"
   ]
  },
  {
   "cell_type": "code",
   "execution_count": null,
   "metadata": {},
   "outputs": [],
   "source": [
    "import pandas as pd\n",
    "from faker import Faker\n",
    "faker=Faker()\n",
    "\n",
    "def gen_user():\n",
    "  return {\n",
    "      \"user_id\": faker.user_name(),\n",
    "      \"age\": faker.random_int(13,99),\n",
    "      \"uid\": faker.uuid4(),\n",
    "      \"phone\": faker.phone_number(),\n",
    "  }\n",
    "\n",
    "def gen_city():\n",
    "  return {\n",
    "      \"city_id\": faker.city(),\n",
    "      \"city_tier\": faker.random_int(1,3),\n",
    "  }\n",
    "\n",
    "user = pd.DataFrame([gen_user() for _ in range(25)])\n",
    "city = pd.DataFrame([gen_city() for _ in range(8)])\n",
    "user_city = pd.DataFrame({'user_id': user.user_id,\n",
    "                          'city_id': city.sample(len(user), replace=True).city_id.to_list()})\n",
    "\n",
    "sumatra.create_timeline_from_dataframes({'user': user, 'user_city': user_city, 'city': city},\n",
    "                                        timeline='user_city_backfill')"
   ]
  },
  {
   "cell_type": "code",
   "execution_count": null,
   "metadata": {},
   "outputs": [],
   "source": [
    "model_features = \"\"\"\n",
    "event query_model_features\n",
    "\n",
    "user_id := $.user_id as string\n",
    "\n",
    "age := Latest<user>(age by user_id)\n",
    "phone := Latest<user>(phone by user_id)\n",
    "city_id := Latest<user_city>(city_id by user_id)\n",
    "city_tier := Latest<city>(city_tier by city_id)\n",
    "\n",
    "-- Uncomment me\n",
    "avg_age_by_tier_1h := Average(age by city_tier last hour)\n",
    "users_per_city_2w := CountUnique(user_id by city_id last 2 weeks)\n",
    "phone_has_extension := phone.Contains(\"x\")\n",
    "\"\"\"\n",
    "sumatra.create_branch_from_scowl(schemas+model_features)"
   ]
  },
  {
   "cell_type": "code",
   "execution_count": null,
   "metadata": {},
   "outputs": [],
   "source": [
    "queries = user.sample(10, replace=True)[['user_id']].reset_index(drop=True)\n",
    "sumatra.create_timeline_from_dataframes({'query_model_features': queries},\n",
    "                                        timeline='online_queries')\n",
    "\n",
    "mtr = sumatra.materialize_many(['online_queries', 'user_city_backfill'])\n",
    "enriched = mtr.get_enriched(event_type='query_model_features')\n",
    "enriched"
   ]
  }
 ],
 "metadata": {
  "kernelspec": {
   "display_name": "Python 3",
   "language": "python",
   "name": "python3"
  },
  "language_info": {
   "codemirror_mode": {
    "name": "ipython",
    "version": 3
   },
   "file_extension": ".py",
   "mimetype": "text/x-python",
   "name": "python",
   "nbconvert_exporter": "python",
   "pygments_lexer": "ipython3",
   "version": "3.9.9"
  }
 },
 "nbformat": 4,
 "nbformat_minor": 5
}
